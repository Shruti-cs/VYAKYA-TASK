{
 "cells": [
  {
   "cell_type": "markdown",
   "metadata": {},
   "source": [
    "## VYAKYA -TASK SUBMISSION\n",
    "\n",
    "### Task - 1"
   ]
  },
  {
   "cell_type": "code",
   "execution_count": 1,
   "metadata": {},
   "outputs": [],
   "source": [
    "def sort_func(A,B):\n",
    "    size=len(A)\n",
    "    for i in range(size):\n",
    "        cnt=0\n",
    "        j=i+1\n",
    "        for j in range(size):\n",
    "            k=j+1\n",
    "            for k in range(size):\n",
    "                for l in range(size):\n",
    "                    if(A[i]+A[j]+A[k]==B[l]):\n",
    "                        print([A[i],A[j],A[k]],[B[l]])\n",
    "                        cnt += 1\n",
    "                        return cnt\n",
    "    \n",
    "    \n",
    "def sort_func2(A):\n",
    "    size=len(A)\n",
    "    sum_1=[]\n",
    "    sum_0=0\n",
    "    sum_2=0\n",
    "    \n",
    "    for i in range(len(A)):\n",
    "        j=i+1\n",
    "        for j in range(len(A)):\n",
    "            sum_0=A[i]+A[j]\n",
    "            sum_1.append(sum_0)\n",
    "    return sum_1\n",
    "            \n",
    "def sort_func3(A,B,temp):\n",
    "    sum_0=0\n",
    "    sum_2=0\n",
    "    solution=[]\n",
    "    \n",
    "    for i in range(len(B)):\n",
    "        j=i+1\n",
    "        for j in range(len(B)):\n",
    "            sum_0=B[i]+B[j]\n",
    "            if(sum_0 in temp):\n",
    "                solution.extend((B[i],B[j]))\n",
    "                sol1=sort_func4(A,sum_0,solution)\n",
    "                return sol1\n",
    "    \n",
    "    \n",
    "def sort_func4(A,sum_0,solution):\n",
    "    sum_1=0\n",
    "    sol1=[]\n",
    "    for i in range(len(A)):\n",
    "        j=i+1\n",
    "        for j in range(len(A)):\n",
    "            sum_1=A[i]+A[j]\n",
    "            if(sum_1==sum_0):\n",
    "                solution.extend((A[i],A[j]))\n",
    "                sol1=solution\n",
    "                return sol1"
   ]
  },
  {
   "cell_type": "code",
   "execution_count": 3,
   "metadata": {},
   "outputs": [
    {
     "name": "stdout",
     "output_type": "stream",
     "text": [
      "[1, 2, 6] [9]\n"
     ]
    }
   ],
   "source": [
    "A= [1,2,3,4,5,6]\n",
    "B=[9,10,11,12,13,14]\n",
    "res=sort_func(A,B)\n",
    "res\n",
    "if(res!=1):\n",
    "    temp=[]\n",
    "temp=sort_func2(A)\n",
    "sort_func3(A,B,temp)"
   ]
  },
  {
   "cell_type": "code",
   "execution_count": 4,
   "metadata": {},
   "outputs": [
    {
     "data": {
      "text/plain": [
       "[2, 19, 10, 11]"
      ]
     },
     "execution_count": 4,
     "metadata": {},
     "output_type": "execute_result"
    }
   ],
   "source": [
    "A=[10,11,12,13,14]\n",
    "B= [2, 3, 19, 99, 101]\n",
    "res=sort_func(A,B)\n",
    "res\n",
    "if(res!=1):\n",
    "    temp=[]\n",
    "temp=sort_func2(A)\n",
    "sort_func3(A,B,temp)"
   ]
  },
  {
   "cell_type": "code",
   "execution_count": null,
   "metadata": {},
   "outputs": [],
   "source": []
  }
 ],
 "metadata": {
  "kernelspec": {
   "display_name": "Python 3",
   "language": "python",
   "name": "python3"
  },
  "language_info": {
   "codemirror_mode": {
    "name": "ipython",
    "version": 3
   },
   "file_extension": ".py",
   "mimetype": "text/x-python",
   "name": "python",
   "nbconvert_exporter": "python",
   "pygments_lexer": "ipython3",
   "version": "3.7.6"
  }
 },
 "nbformat": 4,
 "nbformat_minor": 4
}
